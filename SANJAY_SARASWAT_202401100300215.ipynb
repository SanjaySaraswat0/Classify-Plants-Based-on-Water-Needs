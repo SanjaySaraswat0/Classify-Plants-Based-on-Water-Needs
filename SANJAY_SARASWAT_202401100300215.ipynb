{
  "nbformat": 4,
  "nbformat_minor": 0,
  "metadata": {
    "colab": {
      "provenance": []
    },
    "kernelspec": {
      "name": "python3",
      "display_name": "Python 3"
    },
    "language_info": {
      "name": "python"
    }
  },
  "cells": [
    {
      "cell_type": "code",
      "execution_count": 8,
      "metadata": {
        "colab": {
          "base_uri": "https://localhost:8080/"
        },
        "id": "rHpsjYHx0GGV",
        "outputId": "054c5f86-2f38-428a-b0bc-e75dfe71fa3a"
      },
      "outputs": [
        {
          "output_type": "stream",
          "name": "stdout",
          "text": [
            "Accuracy: 0.35\n",
            "\n",
            "Classification Report:\n",
            "               precision    recall  f1-score   support\n",
            "\n",
            "           0       0.00      0.00      0.00         5\n",
            "           1       0.60      0.55      0.57        11\n",
            "           2       0.14      0.25      0.18         4\n",
            "\n",
            "    accuracy                           0.35        20\n",
            "   macro avg       0.25      0.27      0.25        20\n",
            "weighted avg       0.36      0.35      0.35        20\n",
            "\n",
            "Confusion Matrix:\n",
            " [[0 2 3]\n",
            " [2 6 3]\n",
            " [1 2 1]]\n"
          ]
        }
      ],
      "source": [
        "import pandas as pd\n",
        "from sklearn.model_selection import train_test_split\n",
        "from sklearn.preprocessing import LabelEncoder\n",
        "from sklearn.naive_bayes import GaussianNB\n",
        "from sklearn.metrics import accuracy_score, classification_report, confusion_matrix\n",
        "\n",
        "# Load the dataset\n",
        "df = pd.read_csv('/content/plants.csv')\n",
        "\n",
        "# Encode categorical columns\n",
        "label_encoder = LabelEncoder()\n",
        "df['soil_type'] = label_encoder.fit_transform(df['soil_type'])\n",
        "df['water_need'] = label_encoder.fit_transform(df['water_need'])\n",
        "\n",
        "# Features and target\n",
        "X = df[['sunlight_hours', 'watering_freq_per_week', 'soil_type']]\n",
        "y = df['water_need']\n",
        "\n",
        "# Split the dataset\n",
        "X_train, X_test, y_train, y_test = train_test_split(X, y, test_size=0.2, random_state=42)\n",
        "\n",
        "# Train Naive Bayes model\n",
        "model = GaussianNB()\n",
        "model.fit(X_train, y_train)\n",
        "\n",
        "# Predict and evaluate\n",
        "y_pred = model.predict(X_test)\n",
        "print(\"Accuracy:\", accuracy_score(y_test, y_pred))\n",
        "print(\"\\nClassification Report:\\n\", classification_report(y_test, y_pred))\n",
        "print(\"Confusion Matrix:\\n\", confusion_matrix(y_test, y_pred))"
      ]
    }
  ]
}